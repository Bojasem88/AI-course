{
 "cells": [
  {
   "cell_type": "code",
   "execution_count": 1,
   "metadata": {},
   "outputs": [],
   "source": [
    "import chatterbot\n",
    "from chatterbot.trainers import ListTrainer\n",
    "import speech_recognition as sr\n",
    "import pyttsx3"
   ]
  },
  {
   "cell_type": "code",
   "execution_count": 2,
   "metadata": {},
   "outputs": [],
   "source": [
    "import json\n",
    "import time\n",
    "import requests"
   ]
  },
  {
   "cell_type": "code",
   "execution_count": 3,
   "metadata": {},
   "outputs": [],
   "source": [
    "engine = pyttsx3.init()"
   ]
  },
  {
   "cell_type": "code",
   "execution_count": 4,
   "metadata": {},
   "outputs": [
    {
     "name": "stderr",
     "output_type": "stream",
     "text": [
      "[nltk_data] Downloading package averaged_perceptron_tagger to\n",
      "[nltk_data]     C:\\Users\\MHB\\AppData\\Roaming\\nltk_data...\n",
      "[nltk_data]   Package averaged_perceptron_tagger is already up-to-\n",
      "[nltk_data]       date!\n",
      "[nltk_data] Downloading package stopwords to\n",
      "[nltk_data]     C:\\Users\\MHB\\AppData\\Roaming\\nltk_data...\n",
      "[nltk_data]   Package stopwords is already up-to-date!\n"
     ]
    }
   ],
   "source": [
    "bot = chatterbot.ChatBot(\"newbot\")\n",
    "trainer2=ListTrainer(bot)"
   ]
  },
  {
   "cell_type": "code",
   "execution_count": 7,
   "metadata": {},
   "outputs": [
    {
     "data": {
      "text/plain": [
       "['ai.txt', 'ai2.txt', 'ai3.txt', 'ai4.txt', 'ai5.txt']"
      ]
     },
     "execution_count": 7,
     "metadata": {},
     "output_type": "execute_result"
    }
   ],
   "source": [
    "folder = r\"chatbotdata\"\n",
    "import os\n",
    "files = os.listdir(folder)\n",
    "files"
   ]
  },
  {
   "cell_type": "code",
   "execution_count": 8,
   "metadata": {},
   "outputs": [
    {
     "name": "stdout",
     "output_type": "stream",
     "text": [
      "\r",
      "List Trainer: [#                   ] 3%"
     ]
    },
    {
     "name": "stderr",
     "output_type": "stream",
     "text": [
      "C:\\Users\\MHB\\AppData\\Roaming\\Python\\Python36\\site-packages\\chatterbot\\corpus.py:38: YAMLLoadWarning: calling yaml.load() without Loader=... is deprecated, as the default Loader is unsafe. Please read https://msg.pyyaml.org/load for full details.\n",
      "  return yaml.load(data_file)\n"
     ]
    },
    {
     "name": "stdout",
     "output_type": "stream",
     "text": [
      "List Trainer: [####################] 100%\n",
      "List Trainer: [####################] 100%\n",
      "List Trainer: [####################] 100%\n",
      "List Trainer: [####################] 100%\n",
      "List Trainer: [####################] 100%\n"
     ]
    }
   ],
   "source": [
    "for file in files:\n",
    "    data = open (folder+\"\\\\\"+file).readlines()\n",
    "    trainer2.train(data)"
   ]
  },
  {
   "cell_type": "code",
   "execution_count": 9,
   "metadata": {},
   "outputs": [
    {
     "name": "stdout",
     "output_type": "stream",
     "text": [
      "Regression is basically a statistical approach to find the relationship between variables.\n"
     ]
    }
   ],
   "source": [
    "print(bot.get_response(\"what is regression\"))"
   ]
  },
  {
   "cell_type": "code",
   "execution_count": 10,
   "metadata": {},
   "outputs": [],
   "source": [
    "TOKEN = \"12343523453453:dsgdfsgdfsgsdfgsdfg\"\n",
    "URL = \"https://api.telegram.org/bot{}/\".format(TOKEN)"
   ]
  },
  {
   "cell_type": "code",
   "execution_count": 11,
   "metadata": {},
   "outputs": [
    {
     "ename": "IndexError",
     "evalue": "list index out of range",
     "output_type": "error",
     "traceback": [
      "\u001b[1;31m---------------------------------------------------------------------------\u001b[0m",
      "\u001b[1;31mIndexError\u001b[0m                                Traceback (most recent call last)",
      "\u001b[1;32m<ipython-input-11-057987251231>\u001b[0m in \u001b[0;36m<module>\u001b[1;34m\u001b[0m\n\u001b[0;32m     31\u001b[0m \u001b[1;33m\u001b[0m\u001b[0m\n\u001b[0;32m     32\u001b[0m \u001b[1;33m\u001b[0m\u001b[0m\n\u001b[1;32m---> 33\u001b[1;33m \u001b[0mtext\u001b[0m\u001b[1;33m,\u001b[0m \u001b[0mchat\u001b[0m \u001b[1;33m=\u001b[0m \u001b[0mget_last_chat_id_and_text\u001b[0m\u001b[1;33m(\u001b[0m\u001b[0mget_updates\u001b[0m\u001b[1;33m(\u001b[0m\u001b[1;33m)\u001b[0m\u001b[1;33m)\u001b[0m\u001b[1;33m\u001b[0m\u001b[1;33m\u001b[0m\u001b[0m\n\u001b[0m\u001b[0;32m     34\u001b[0m \u001b[1;31m#send_message(\"text\", chat)\u001b[0m\u001b[1;33m\u001b[0m\u001b[1;33m\u001b[0m\u001b[1;33m\u001b[0m\u001b[0m\n",
      "\u001b[1;32m<ipython-input-11-057987251231>\u001b[0m in \u001b[0;36mget_last_chat_id_and_text\u001b[1;34m(updates)\u001b[0m\n\u001b[0;32m     21\u001b[0m     \u001b[0mnum_updates\u001b[0m \u001b[1;33m=\u001b[0m \u001b[0mlen\u001b[0m\u001b[1;33m(\u001b[0m\u001b[0mupdates\u001b[0m\u001b[1;33m[\u001b[0m\u001b[1;34m\"result\"\u001b[0m\u001b[1;33m]\u001b[0m\u001b[1;33m)\u001b[0m\u001b[1;33m\u001b[0m\u001b[1;33m\u001b[0m\u001b[0m\n\u001b[0;32m     22\u001b[0m     \u001b[0mlast_update\u001b[0m \u001b[1;33m=\u001b[0m \u001b[0mnum_updates\u001b[0m \u001b[1;33m-\u001b[0m \u001b[1;36m1\u001b[0m\u001b[1;33m\u001b[0m\u001b[1;33m\u001b[0m\u001b[0m\n\u001b[1;32m---> 23\u001b[1;33m     \u001b[0mtext\u001b[0m \u001b[1;33m=\u001b[0m \u001b[0mupdates\u001b[0m\u001b[1;33m[\u001b[0m\u001b[1;34m\"result\"\u001b[0m\u001b[1;33m]\u001b[0m\u001b[1;33m[\u001b[0m\u001b[0mlast_update\u001b[0m\u001b[1;33m]\u001b[0m\u001b[1;33m[\u001b[0m\u001b[1;34m\"message\"\u001b[0m\u001b[1;33m]\u001b[0m\u001b[1;33m[\u001b[0m\u001b[1;34m\"text\"\u001b[0m\u001b[1;33m]\u001b[0m\u001b[1;33m\u001b[0m\u001b[1;33m\u001b[0m\u001b[0m\n\u001b[0m\u001b[0;32m     24\u001b[0m     \u001b[0mchat_id\u001b[0m \u001b[1;33m=\u001b[0m \u001b[0mupdates\u001b[0m\u001b[1;33m[\u001b[0m\u001b[1;34m\"result\"\u001b[0m\u001b[1;33m]\u001b[0m\u001b[1;33m[\u001b[0m\u001b[0mlast_update\u001b[0m\u001b[1;33m]\u001b[0m\u001b[1;33m[\u001b[0m\u001b[1;34m\"message\"\u001b[0m\u001b[1;33m]\u001b[0m\u001b[1;33m[\u001b[0m\u001b[1;34m\"chat\"\u001b[0m\u001b[1;33m]\u001b[0m\u001b[1;33m[\u001b[0m\u001b[1;34m\"id\"\u001b[0m\u001b[1;33m]\u001b[0m\u001b[1;33m\u001b[0m\u001b[1;33m\u001b[0m\u001b[0m\n\u001b[0;32m     25\u001b[0m     \u001b[1;32mreturn\u001b[0m \u001b[1;33m(\u001b[0m\u001b[0mtext\u001b[0m\u001b[1;33m,\u001b[0m \u001b[0mchat_id\u001b[0m\u001b[1;33m)\u001b[0m\u001b[1;33m\u001b[0m\u001b[1;33m\u001b[0m\u001b[0m\n",
      "\u001b[1;31mIndexError\u001b[0m: list index out of range"
     ]
    }
   ],
   "source": [
    "def get_url(url):\n",
    "    response = requests.get(url)\n",
    "    content = response.content.decode(\"utf8\")\n",
    "    return content\n",
    "\n",
    "\n",
    "def get_json_from_url(url):\n",
    "    content = get_url(url)\n",
    "    js = json.loads(content)\n",
    "    return js\n",
    "\n",
    "\n",
    "def get_updates():\n",
    "    url = URL + \"getUpdates\"\n",
    "    global js\n",
    "    js = get_json_from_url(url)\n",
    "    return js\n",
    "\n",
    "\n",
    "def get_last_chat_id_and_text(updates):\n",
    "    num_updates = len(updates[\"result\"])\n",
    "    last_update = num_updates - 1\n",
    "    text = updates[\"result\"][last_update][\"message\"][\"text\"]\n",
    "    chat_id = updates[\"result\"][last_update][\"message\"][\"chat\"][\"id\"]\n",
    "    return (text, chat_id)\n",
    "\n",
    "\n",
    "def send_message(text, chat_id):\n",
    "    url = URL + \"sendMessage?text={}&chat_id={}\".format(text, chat_id)\n",
    "    get_url(url)\n",
    "    \n",
    "\n",
    "text, chat = get_last_chat_id_and_text(get_updates())\n",
    "#send_message(\"text\", chat)"
   ]
  },
  {
   "cell_type": "code",
   "execution_count": 12,
   "metadata": {},
   "outputs": [
    {
     "name": "stdout",
     "output_type": "stream",
     "text": [
      "Enter your name: MMM\n"
     ]
    },
    {
     "ename": "IndexError",
     "evalue": "list index out of range",
     "output_type": "error",
     "traceback": [
      "\u001b[1;31m---------------------------------------------------------------------------\u001b[0m",
      "\u001b[1;31mIndexError\u001b[0m                                Traceback (most recent call last)",
      "\u001b[1;32m<ipython-input-12-6f2bc4efbd95>\u001b[0m in \u001b[0;36m<module>\u001b[1;34m\u001b[0m\n\u001b[0;32m     13\u001b[0m \u001b[0mlast_textchat\u001b[0m \u001b[1;33m=\u001b[0m \u001b[1;33m(\u001b[0m\u001b[1;32mNone\u001b[0m\u001b[1;33m,\u001b[0m \u001b[1;32mNone\u001b[0m\u001b[1;33m)\u001b[0m\u001b[1;33m\u001b[0m\u001b[1;33m\u001b[0m\u001b[0m\n\u001b[0;32m     14\u001b[0m \u001b[1;32mwhile\u001b[0m \u001b[1;32mTrue\u001b[0m\u001b[1;33m:\u001b[0m\u001b[1;33m\u001b[0m\u001b[1;33m\u001b[0m\u001b[0m\n\u001b[1;32m---> 15\u001b[1;33m     \u001b[0mtext\u001b[0m\u001b[1;33m,\u001b[0m \u001b[0mchat\u001b[0m \u001b[1;33m=\u001b[0m \u001b[0mget_last_chat_id_and_text\u001b[0m\u001b[1;33m(\u001b[0m\u001b[0mget_updates\u001b[0m\u001b[1;33m(\u001b[0m\u001b[1;33m)\u001b[0m\u001b[1;33m)\u001b[0m\u001b[1;33m\u001b[0m\u001b[1;33m\u001b[0m\u001b[0m\n\u001b[0m\u001b[0;32m     16\u001b[0m     \u001b[1;32mif\u001b[0m \u001b[1;33m(\u001b[0m\u001b[0mtext\u001b[0m\u001b[1;33m,\u001b[0m \u001b[0mchat\u001b[0m\u001b[1;33m)\u001b[0m \u001b[1;33m!=\u001b[0m \u001b[0mlast_textchat\u001b[0m\u001b[1;33m:\u001b[0m\u001b[1;33m\u001b[0m\u001b[1;33m\u001b[0m\u001b[0m\n\u001b[0;32m     17\u001b[0m         \u001b[0mlast_textchat\u001b[0m \u001b[1;33m=\u001b[0m \u001b[1;33m(\u001b[0m\u001b[0mtext\u001b[0m\u001b[1;33m,\u001b[0m \u001b[0mchat\u001b[0m\u001b[1;33m)\u001b[0m\u001b[1;33m\u001b[0m\u001b[1;33m\u001b[0m\u001b[0m\n",
      "\u001b[1;32m<ipython-input-11-057987251231>\u001b[0m in \u001b[0;36mget_last_chat_id_and_text\u001b[1;34m(updates)\u001b[0m\n\u001b[0;32m     21\u001b[0m     \u001b[0mnum_updates\u001b[0m \u001b[1;33m=\u001b[0m \u001b[0mlen\u001b[0m\u001b[1;33m(\u001b[0m\u001b[0mupdates\u001b[0m\u001b[1;33m[\u001b[0m\u001b[1;34m\"result\"\u001b[0m\u001b[1;33m]\u001b[0m\u001b[1;33m)\u001b[0m\u001b[1;33m\u001b[0m\u001b[1;33m\u001b[0m\u001b[0m\n\u001b[0;32m     22\u001b[0m     \u001b[0mlast_update\u001b[0m \u001b[1;33m=\u001b[0m \u001b[0mnum_updates\u001b[0m \u001b[1;33m-\u001b[0m \u001b[1;36m1\u001b[0m\u001b[1;33m\u001b[0m\u001b[1;33m\u001b[0m\u001b[0m\n\u001b[1;32m---> 23\u001b[1;33m     \u001b[0mtext\u001b[0m \u001b[1;33m=\u001b[0m \u001b[0mupdates\u001b[0m\u001b[1;33m[\u001b[0m\u001b[1;34m\"result\"\u001b[0m\u001b[1;33m]\u001b[0m\u001b[1;33m[\u001b[0m\u001b[0mlast_update\u001b[0m\u001b[1;33m]\u001b[0m\u001b[1;33m[\u001b[0m\u001b[1;34m\"message\"\u001b[0m\u001b[1;33m]\u001b[0m\u001b[1;33m[\u001b[0m\u001b[1;34m\"text\"\u001b[0m\u001b[1;33m]\u001b[0m\u001b[1;33m\u001b[0m\u001b[1;33m\u001b[0m\u001b[0m\n\u001b[0m\u001b[0;32m     24\u001b[0m     \u001b[0mchat_id\u001b[0m \u001b[1;33m=\u001b[0m \u001b[0mupdates\u001b[0m\u001b[1;33m[\u001b[0m\u001b[1;34m\"result\"\u001b[0m\u001b[1;33m]\u001b[0m\u001b[1;33m[\u001b[0m\u001b[0mlast_update\u001b[0m\u001b[1;33m]\u001b[0m\u001b[1;33m[\u001b[0m\u001b[1;34m\"message\"\u001b[0m\u001b[1;33m]\u001b[0m\u001b[1;33m[\u001b[0m\u001b[1;34m\"chat\"\u001b[0m\u001b[1;33m]\u001b[0m\u001b[1;33m[\u001b[0m\u001b[1;34m\"id\"\u001b[0m\u001b[1;33m]\u001b[0m\u001b[1;33m\u001b[0m\u001b[1;33m\u001b[0m\u001b[0m\n\u001b[0;32m     25\u001b[0m     \u001b[1;32mreturn\u001b[0m \u001b[1;33m(\u001b[0m\u001b[0mtext\u001b[0m\u001b[1;33m,\u001b[0m \u001b[0mchat_id\u001b[0m\u001b[1;33m)\u001b[0m\u001b[1;33m\u001b[0m\u001b[1;33m\u001b[0m\u001b[0m\n",
      "\u001b[1;31mIndexError\u001b[0m: list index out of range"
     ]
    }
   ],
   "source": [
    "#engine.setProperty('rate',120)\n",
    "#engine.say(\"Enter your name: \")\n",
    "#engine.runAndWait()\n",
    "#name=input(\"Enter your name: \")\n",
    "#engine.setProperty('rate',120)\n",
    "#engine.say(\"enter your phone: \")\n",
    "#engine.runAndWait()\n",
    "#phone=input(\"enter your phone: \")\n",
    "#print(\"How i can help you today? \")\n",
    "#engine.setProperty('rate',120)\n",
    "#engine.say(\"How i can help you today? \")\n",
    "#engine.runAndWait()\n",
    "last_textchat = (None, None)\n",
    "while True:\n",
    "    text, chat = get_last_chat_id_and_text(get_updates())\n",
    "    if (text, chat) != last_textchat:\n",
    "        last_textchat = (text, chat)\n",
    "        qus = text\n",
    "        print(\"user say:\",qus)\n",
    "        ans=bot.get_response(qus)\n",
    "        send_message(ans, chat)\n",
    "        print(\"Bot: \",ans)\n",
    "        #engine.setProperty('rate',120)\n",
    "        #engine.say(ans)\n",
    "        #engine.runAndWait()\n",
    "    #r= sr.Recognizer()\n",
    "    #with sr.Microphone (0) as source:\n",
    "        #audio = r.listen(source,phrase_time_limit=15)\n",
    "    #text=r.recognize_google(audio)\n",
    "    #print(text)\n",
    "        \n",
    "    #send_message(qus, chat)\n",
    "    #if qus =='exit':\n",
    "    #    break\n",
    "    #ans=bot.get_response(qus)\n",
    "    #print(\"Bot: \",ans)\n",
    "    #engine.setProperty('rate',120)\n",
    "    #engine.say(ans)\n",
    "    #engine.runAndWait()\n",
    "    "
   ]
  },
  {
   "cell_type": "code",
   "execution_count": 12,
   "metadata": {},
   "outputs": [
    {
     "data": {
      "text/plain": [
       "{'ok': True,\n",
       " 'result': [{'update_id': 13836620,\n",
       "   'message': {'message_id': 18,\n",
       "    'from': {'id': 794747761,\n",
       "     'is_bot': False,\n",
       "     'first_name': 'Mohammed',\n",
       "     'last_name': 'Hamid Bawazir',\n",
       "     'language_code': 'en'},\n",
       "    'chat': {'id': 794747761,\n",
       "     'first_name': 'Mohammed',\n",
       "     'last_name': 'Hamid Bawazir',\n",
       "     'type': 'private'},\n",
       "    'date': 1556460506,\n",
       "    'text': 'Jj'}},\n",
       "  {'update_id': 13836621,\n",
       "   'message': {'message_id': 19,\n",
       "    'from': {'id': 794747761,\n",
       "     'is_bot': False,\n",
       "     'first_name': 'Mohammed',\n",
       "     'last_name': 'Hamid Bawazir',\n",
       "     'language_code': 'en'},\n",
       "    'chat': {'id': 794747761,\n",
       "     'first_name': 'Mohammed',\n",
       "     'last_name': 'Hamid Bawazir',\n",
       "     'type': 'private'},\n",
       "    'date': 1556467031,\n",
       "    'text': 'Hey'}}]}"
      ]
     },
     "execution_count": 12,
     "metadata": {},
     "output_type": "execute_result"
    }
   ],
   "source": [
    "get_updates()"
   ]
  },
  {
   "cell_type": "code",
   "execution_count": 13,
   "metadata": {},
   "outputs": [
    {
     "data": {
      "text/plain": [
       "{'ok': True,\n",
       " 'result': [{'update_id': 13836620,\n",
       "   'message': {'message_id': 18,\n",
       "    'from': {'id': 794747761,\n",
       "     'is_bot': False,\n",
       "     'first_name': 'Mohammed',\n",
       "     'last_name': 'Hamid Bawazir',\n",
       "     'language_code': 'en'},\n",
       "    'chat': {'id': 794747761,\n",
       "     'first_name': 'Mohammed',\n",
       "     'last_name': 'Hamid Bawazir',\n",
       "     'type': 'private'},\n",
       "    'date': 1556460506,\n",
       "    'text': 'Jj'}},\n",
       "  {'update_id': 13836621,\n",
       "   'message': {'message_id': 19,\n",
       "    'from': {'id': 794747761,\n",
       "     'is_bot': False,\n",
       "     'first_name': 'Mohammed',\n",
       "     'last_name': 'Hamid Bawazir',\n",
       "     'language_code': 'en'},\n",
       "    'chat': {'id': 794747761,\n",
       "     'first_name': 'Mohammed',\n",
       "     'last_name': 'Hamid Bawazir',\n",
       "     'type': 'private'},\n",
       "    'date': 1556467031,\n",
       "    'text': 'Hey'}}]}"
      ]
     },
     "execution_count": 13,
     "metadata": {},
     "output_type": "execute_result"
    }
   ],
   "source": [
    "js"
   ]
  },
  {
   "cell_type": "code",
   "execution_count": 14,
   "metadata": {},
   "outputs": [
    {
     "data": {
      "text/plain": [
       "'Mohammed'"
      ]
     },
     "execution_count": 14,
     "metadata": {},
     "output_type": "execute_result"
    }
   ],
   "source": [
    "js[\"result\"][0][\"message\"][\"from\"][\"first_name\"]"
   ]
  },
  {
   "cell_type": "code",
   "execution_count": 15,
   "metadata": {},
   "outputs": [
    {
     "data": {
      "text/plain": [
       "'Hamid Bawazir'"
      ]
     },
     "execution_count": 15,
     "metadata": {},
     "output_type": "execute_result"
    }
   ],
   "source": [
    "js[\"result\"][0][\"message\"][\"from\"][\"last_name\"]"
   ]
  },
  {
   "cell_type": "code",
   "execution_count": 16,
   "metadata": {},
   "outputs": [
    {
     "data": {
      "text/plain": [
       "'Hamid Bawazir'"
      ]
     },
     "execution_count": 16,
     "metadata": {},
     "output_type": "execute_result"
    }
   ],
   "source": [
    "js[\"result\"][1][\"message\"][\"from\"][\"last_name\"]"
   ]
  },
  {
   "cell_type": "code",
   "execution_count": 17,
   "metadata": {},
   "outputs": [
    {
     "ename": "IndexError",
     "evalue": "list index out of range",
     "output_type": "error",
     "traceback": [
      "\u001b[1;31m---------------------------------------------------------------------------\u001b[0m",
      "\u001b[1;31mIndexError\u001b[0m                                Traceback (most recent call last)",
      "\u001b[1;32m<ipython-input-17-a92cb992eadb>\u001b[0m in \u001b[0;36m<module>\u001b[1;34m\u001b[0m\n\u001b[1;32m----> 1\u001b[1;33m \u001b[0mjs\u001b[0m\u001b[1;33m[\u001b[0m\u001b[1;34m\"result\"\u001b[0m\u001b[1;33m]\u001b[0m\u001b[1;33m[\u001b[0m\u001b[1;36m2\u001b[0m\u001b[1;33m]\u001b[0m\u001b[1;33m[\u001b[0m\u001b[1;34m\"message\"\u001b[0m\u001b[1;33m]\u001b[0m\u001b[1;33m[\u001b[0m\u001b[1;34m\"from\"\u001b[0m\u001b[1;33m]\u001b[0m\u001b[1;33m[\u001b[0m\u001b[1;34m\"last_name\"\u001b[0m\u001b[1;33m]\u001b[0m\u001b[1;33m\u001b[0m\u001b[1;33m\u001b[0m\u001b[0m\n\u001b[0m",
      "\u001b[1;31mIndexError\u001b[0m: list index out of range"
     ]
    }
   ],
   "source": [
    "js[\"result\"][2][\"message\"][\"from\"][\"last_name\"]"
   ]
  },
  {
   "cell_type": "code",
   "execution_count": 18,
   "metadata": {},
   "outputs": [
    {
     "ename": "IndexError",
     "evalue": "list index out of range",
     "output_type": "error",
     "traceback": [
      "\u001b[1;31m---------------------------------------------------------------------------\u001b[0m",
      "\u001b[1;31mIndexError\u001b[0m                                Traceback (most recent call last)",
      "\u001b[1;32m<ipython-input-18-78a584d1a56c>\u001b[0m in \u001b[0;36m<module>\u001b[1;34m\u001b[0m\n\u001b[1;32m----> 1\u001b[1;33m \u001b[0mjs\u001b[0m\u001b[1;33m[\u001b[0m\u001b[1;34m\"result\"\u001b[0m\u001b[1;33m]\u001b[0m\u001b[1;33m[\u001b[0m\u001b[1;36m41\u001b[0m\u001b[1;33m]\u001b[0m\u001b[1;33m[\u001b[0m\u001b[1;34m\"message\"\u001b[0m\u001b[1;33m]\u001b[0m\u001b[1;33m[\u001b[0m\u001b[1;34m\"from\"\u001b[0m\u001b[1;33m]\u001b[0m\u001b[1;33m[\u001b[0m\u001b[1;34m\"first_name\"\u001b[0m\u001b[1;33m]\u001b[0m\u001b[1;33m\u001b[0m\u001b[1;33m\u001b[0m\u001b[0m\n\u001b[0m",
      "\u001b[1;31mIndexError\u001b[0m: list index out of range"
     ]
    }
   ],
   "source": [
    "js[\"result\"][41][\"message\"][\"from\"][\"first_name\"]"
   ]
  },
  {
   "cell_type": "code",
   "execution_count": 19,
   "metadata": {},
   "outputs": [
    {
     "ename": "IndexError",
     "evalue": "list index out of range",
     "output_type": "error",
     "traceback": [
      "\u001b[1;31m---------------------------------------------------------------------------\u001b[0m",
      "\u001b[1;31mIndexError\u001b[0m                                Traceback (most recent call last)",
      "\u001b[1;32m<ipython-input-19-f89d1e4e0a32>\u001b[0m in \u001b[0;36m<module>\u001b[1;34m\u001b[0m\n\u001b[1;32m----> 1\u001b[1;33m \u001b[0mjs\u001b[0m\u001b[1;33m[\u001b[0m\u001b[1;34m\"result\"\u001b[0m\u001b[1;33m]\u001b[0m\u001b[1;33m[\u001b[0m\u001b[1;36m41\u001b[0m\u001b[1;33m]\u001b[0m\u001b[1;33m[\u001b[0m\u001b[1;34m\"message\"\u001b[0m\u001b[1;33m]\u001b[0m\u001b[1;33m[\u001b[0m\u001b[1;34m\"from\"\u001b[0m\u001b[1;33m]\u001b[0m\u001b[1;33m[\u001b[0m\u001b[1;34m\"last_name\"\u001b[0m\u001b[1;33m]\u001b[0m\u001b[1;33m\u001b[0m\u001b[1;33m\u001b[0m\u001b[0m\n\u001b[0m",
      "\u001b[1;31mIndexError\u001b[0m: list index out of range"
     ]
    }
   ],
   "source": [
    "js[\"result\"][41][\"message\"][\"from\"][\"last_name\"]"
   ]
  },
  {
   "cell_type": "code",
   "execution_count": 81,
   "metadata": {},
   "outputs": [
    {
     "name": "stdout",
     "output_type": "stream",
     "text": [
      "['Shahin', 'Hamid Bawazir']\n"
     ]
    }
   ],
   "source": []
  },
  {
   "cell_type": "code",
   "execution_count": 20,
   "metadata": {},
   "outputs": [
    {
     "name": "stdout",
     "output_type": "stream",
     "text": [
      "['Mohammed']\n"
     ]
    }
   ],
   "source": [
    "list=[]\n",
    "for i in js[\"result\"]:\n",
    "    first_name2=0\n",
    "    l=len(js[\"result\"])\n",
    "    for j in range(l):\n",
    "        first_name=js[\"result\"][j][\"message\"][\"from\"][\"first_name\"]\n",
    "        if first_name not in list:\n",
    "            list.append(first_name)\n",
    "            #last_name2=last_name\n",
    "print(list)"
   ]
  },
  {
   "cell_type": "code",
   "execution_count": 21,
   "metadata": {},
   "outputs": [
    {
     "name": "stdout",
     "output_type": "stream",
     "text": [
      "['Mohammed', 'Hamid Bawazir']\n"
     ]
    }
   ],
   "source": [
    "\n",
    "for i in js[\"result\"]:\n",
    "    last_name2=0\n",
    "    l=len(js[\"result\"])\n",
    "    for j in range(l):\n",
    "        last_name=js[\"result\"][j][\"message\"][\"from\"][\"last_name\"]\n",
    "        if last_name not in list:\n",
    "            list.append(last_name)\n",
    "            #last_name2=last_name\n",
    "print(list)\n",
    "        "
   ]
  },
  {
   "cell_type": "code",
   "execution_count": 22,
   "metadata": {},
   "outputs": [
    {
     "name": "stdout",
     "output_type": "stream",
     "text": [
      "['MohammedHamid Bawazir']\n"
     ]
    }
   ],
   "source": [
    "list=[]\n",
    "for i in js[\"result\"]:\n",
    "    full_name2=0\n",
    "    l=len(js[\"result\"])\n",
    "    for j in range(l):\n",
    "        first_name=js[\"result\"][j][\"message\"][\"from\"][\"first_name\"]\n",
    "        last_name=js[\"result\"][j][\"message\"][\"from\"][\"last_name\"]\n",
    "        full_name=first_name+last_name\n",
    "        if full_name not in list:\n",
    "            list.append(full_name)\n",
    "            full_name2=full_name\n",
    "        #if last_name not in list:\n",
    "            #list.append(last_name)\n",
    "            #last_name2=last_name\n",
    "print(list)"
   ]
  },
  {
   "cell_type": "code",
   "execution_count": 23,
   "metadata": {},
   "outputs": [],
   "source": [
    "f=open(\"testfile.txt\",\"a\")\n",
    "for i in list:\n",
    "    f.write(i)\n",
    "    f.write(\"\\n\")"
   ]
  },
  {
   "cell_type": "code",
   "execution_count": 24,
   "metadata": {},
   "outputs": [],
   "source": [
    "f.close()"
   ]
  },
  {
   "cell_type": "code",
   "execution_count": 25,
   "metadata": {},
   "outputs": [
    {
     "name": "stdout",
     "output_type": "stream",
     "text": [
      "2\n"
     ]
    }
   ],
   "source": [
    "print(len(js[\"result\"]))"
   ]
  },
  {
   "cell_type": "code",
   "execution_count": null,
   "metadata": {},
   "outputs": [],
   "source": []
  },
  {
   "cell_type": "code",
   "execution_count": 26,
   "metadata": {},
   "outputs": [
    {
     "data": {
      "text/plain": [
       "[{'update_id': 13836620,\n",
       "  'message': {'message_id': 18,\n",
       "   'from': {'id': 794747761,\n",
       "    'is_bot': False,\n",
       "    'first_name': 'Mohammed',\n",
       "    'last_name': 'Hamid Bawazir',\n",
       "    'language_code': 'en'},\n",
       "   'chat': {'id': 794747761,\n",
       "    'first_name': 'Mohammed',\n",
       "    'last_name': 'Hamid Bawazir',\n",
       "    'type': 'private'},\n",
       "   'date': 1556460506,\n",
       "   'text': 'Jj'}},\n",
       " {'update_id': 13836621,\n",
       "  'message': {'message_id': 19,\n",
       "   'from': {'id': 794747761,\n",
       "    'is_bot': False,\n",
       "    'first_name': 'Mohammed',\n",
       "    'last_name': 'Hamid Bawazir',\n",
       "    'language_code': 'en'},\n",
       "   'chat': {'id': 794747761,\n",
       "    'first_name': 'Mohammed',\n",
       "    'last_name': 'Hamid Bawazir',\n",
       "    'type': 'private'},\n",
       "   'date': 1556467031,\n",
       "   'text': 'Hey'}}]"
      ]
     },
     "execution_count": 26,
     "metadata": {},
     "output_type": "execute_result"
    }
   ],
   "source": [
    "js[\"result\"]"
   ]
  },
  {
   "cell_type": "code",
   "execution_count": 27,
   "metadata": {},
   "outputs": [
    {
     "data": {
      "text/plain": [
       "{'ok': True,\n",
       " 'result': [{'update_id': 13836620,\n",
       "   'message': {'message_id': 18,\n",
       "    'from': {'id': 794747761,\n",
       "     'is_bot': False,\n",
       "     'first_name': 'Mohammed',\n",
       "     'last_name': 'Hamid Bawazir',\n",
       "     'language_code': 'en'},\n",
       "    'chat': {'id': 794747761,\n",
       "     'first_name': 'Mohammed',\n",
       "     'last_name': 'Hamid Bawazir',\n",
       "     'type': 'private'},\n",
       "    'date': 1556460506,\n",
       "    'text': 'Jj'}},\n",
       "  {'update_id': 13836621,\n",
       "   'message': {'message_id': 19,\n",
       "    'from': {'id': 794747761,\n",
       "     'is_bot': False,\n",
       "     'first_name': 'Mohammed',\n",
       "     'last_name': 'Hamid Bawazir',\n",
       "     'language_code': 'en'},\n",
       "    'chat': {'id': 794747761,\n",
       "     'first_name': 'Mohammed',\n",
       "     'last_name': 'Hamid Bawazir',\n",
       "     'type': 'private'},\n",
       "    'date': 1556467031,\n",
       "    'text': 'Hey'}}]}"
      ]
     },
     "execution_count": 27,
     "metadata": {},
     "output_type": "execute_result"
    }
   ],
   "source": [
    "js"
   ]
  },
  {
   "cell_type": "code",
   "execution_count": 28,
   "metadata": {},
   "outputs": [
    {
     "name": "stdout",
     "output_type": "stream",
     "text": [
      "{'update_id': 13836620, 'message': {'message_id': 18, 'from': {'id': 794747761, 'is_bot': False, 'first_name': 'Mohammed', 'last_name': 'Hamid Bawazir', 'language_code': 'en'}, 'chat': {'id': 794747761, 'first_name': 'Mohammed', 'last_name': 'Hamid Bawazir', 'type': 'private'}, 'date': 1556460506, 'text': 'Jj'}}\n",
      "{'update_id': 13836621, 'message': {'message_id': 19, 'from': {'id': 794747761, 'is_bot': False, 'first_name': 'Mohammed', 'last_name': 'Hamid Bawazir', 'language_code': 'en'}, 'chat': {'id': 794747761, 'first_name': 'Mohammed', 'last_name': 'Hamid Bawazir', 'type': 'private'}, 'date': 1556467031, 'text': 'Hey'}}\n"
     ]
    }
   ],
   "source": [
    "for i in js[\"result\"]:\n",
    "    print(i)"
   ]
  },
  {
   "cell_type": "code",
   "execution_count": null,
   "metadata": {},
   "outputs": [],
   "source": []
  }
 ],
 "metadata": {
  "kernelspec": {
   "display_name": "Python 3",
   "language": "python",
   "name": "python3"
  },
  "language_info": {
   "codemirror_mode": {
    "name": "ipython",
    "version": 3
   },
   "file_extension": ".py",
   "mimetype": "text/x-python",
   "name": "python",
   "nbconvert_exporter": "python",
   "pygments_lexer": "ipython3",
   "version": "3.6.8"
  }
 },
 "nbformat": 4,
 "nbformat_minor": 2
}
