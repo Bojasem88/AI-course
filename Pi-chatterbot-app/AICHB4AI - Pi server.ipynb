{
 "cells": [
  {
   "cell_type": "code",
   "execution_count": 4,
   "metadata": {},
   "outputs": [],
   "source": [
    "# installing Packges\n",
    "import chatterbot\n",
    "from chatterbot.trainers import ListTrainer\n",
    "from chatterbot.trainers import ChatterBotCorpusTrainer"
   ]
  },
  {
   "cell_type": "code",
   "execution_count": 5,
   "metadata": {},
   "outputs": [
    {
     "data": {
      "text/plain": [
       "['ai.txt', 'ai2.txt', 'ai3.txt', 'ai4.txt', 'ai5.txt']"
      ]
     },
     "execution_count": 5,
     "metadata": {},
     "output_type": "execute_result"
    }
   ],
   "source": [
    "# Importing data\n",
    "folder=r\"chatbotdata\"\n",
    "import os\n",
    "files = os.listdir(folder)\n",
    "files"
   ]
  },
  {
   "cell_type": "code",
   "execution_count": 6,
   "metadata": {},
   "outputs": [
    {
     "name": "stderr",
     "output_type": "stream",
     "text": [
      "[nltk_data] Downloading package stopwords to\n",
      "[nltk_data]     C:\\Users\\MHB\\AppData\\Roaming\\nltk_data...\n",
      "[nltk_data]   Package stopwords is already up-to-date!\n",
      "[nltk_data] Downloading package averaged_perceptron_tagger to\n",
      "[nltk_data]     C:\\Users\\MHB\\AppData\\Roaming\\nltk_data...\n",
      "[nltk_data]   Package averaged_perceptron_tagger is already up-to-\n",
      "[nltk_data]       date!\n",
      "[nltk_data] Downloading package stopwords to\n",
      "[nltk_data]     C:\\Users\\MHB\\AppData\\Roaming\\nltk_data...\n",
      "[nltk_data]   Package stopwords is already up-to-date!\n",
      "[nltk_data] Downloading package averaged_perceptron_tagger to\n",
      "[nltk_data]     C:\\Users\\MHB\\AppData\\Roaming\\nltk_data...\n",
      "[nltk_data]   Package averaged_perceptron_tagger is already up-to-\n",
      "[nltk_data]       date!\n"
     ]
    }
   ],
   "source": [
    "# Creating Bot\n",
    "bot = chatterbot.ChatBot(\"newbot\")\n",
    "bot2=chatterbot.ChatBot(\"bot2\")\n",
    "# Creating Training model\n",
    "trainer2=ListTrainer(bot)\n",
    "trainer3=ChatterBotCorpusTrainer(bot2)"
   ]
  },
  {
   "cell_type": "code",
   "execution_count": 7,
   "metadata": {},
   "outputs": [
    {
     "name": "stdout",
     "output_type": "stream",
     "text": [
      "List Trainer: [####################] 100%\n",
      "List Trainer: [####################] 100%\n",
      "List Trainer: [####################] 100%\n",
      "List Trainer: [####################] 100%\n",
      "List Trainer: [####################] 100%\n"
     ]
    }
   ],
   "source": [
    "# Training the model for AI Question\n",
    "for file in files:\n",
    "    data = open (folder+\"//\"+file, encoding = \"ISO-8859-1\").readlines()\n",
    "    trainer2.train(data)"
   ]
  },
  {
   "cell_type": "code",
   "execution_count": 8,
   "metadata": {},
   "outputs": [
    {
     "name": "stderr",
     "output_type": "stream",
     "text": [
      "C:\\Users\\MHB\\AppData\\Roaming\\Python\\Python36\\site-packages\\chatterbot\\corpus.py:38: YAMLLoadWarning: calling yaml.load() without Loader=... is deprecated, as the default Loader is unsafe. Please read https://msg.pyyaml.org/load for full details.\n",
      "  return yaml.load(data_file)\n"
     ]
    },
    {
     "name": "stdout",
     "output_type": "stream",
     "text": [
      "Training ai.yml: [####################] 100%\n",
      "Training botprofile.yml: [####################] 100%\n",
      "Training computers.yml: [####################] 100%\n",
      "Training conversations.yml: [####################] 100%\n",
      "Training emotion.yml: [####################] 100%\n",
      "Training food.yml: [####################] 100%\n",
      "Training gossip.yml: [####################] 100%\n",
      "Training greetings.yml: [####################] 100%\n",
      "Training health.yml: [####################] 100%\n",
      "Training history.yml: [####################] 100%\n",
      "Training humor.yml: [####################] 100%\n",
      "Training literature.yml: [####################] 100%\n",
      "Training money.yml: [####################] 100%\n",
      "Training movies.yml: [####################] 100%\n",
      "Training politics.yml: [####################] 100%\n",
      "Training psychology.yml: [####################] 100%\n",
      "Training science.yml: [####################] 100%\n",
      "Training sports.yml: [####################] 100%\n",
      "Training trivia.yml: [####################] 100%\n"
     ]
    }
   ],
   "source": [
    "#Training the model for General purpose AI\n",
    "trainer3.train(\"chatterbot.Corpus.english\")"
   ]
  },
  {
   "cell_type": "code",
   "execution_count": 9,
   "metadata": {},
   "outputs": [
    {
     "name": "stdout",
     "output_type": "stream",
     "text": [
      "hello man\n",
      "Connected with result code 0\n"
     ]
    }
   ],
   "source": [
    "import paho.mqtt.client as mqtt\n",
    "import time\n",
    "# Subscription code\n",
    "Broker = \"test.mosquitto.org\"\n",
    "Port = 1883\n",
    "# Subscription Topic\n",
    "subtopic_L = \"moh19869/moh1986\"\n",
    "\n",
    "#This is the Subscriber - Subscribing to MQTT topic to take user questions\n",
    "\n",
    "def on_connect(client, userdata, flags, rc):\n",
    "    print(\"Connected with result code \"+str(rc))\n",
    "    client.subscribe(subtopic_L)\n",
    "    \n",
    "def on_message(client, userdata, msg):\n",
    "    if msg.topic == subtopic_L:\n",
    "        global text_mqtt\n",
    "        time.sleep(2)\n",
    "        text_mqtt= msg.payload.decode()\n",
    "        print(text_mqtt)\n",
    "        #print(\"mqtt\",text_mqtt)        \n",
    "\n",
    "        \n",
    "client=mqtt.Client()\n",
    "client.connect(Broker,Port,120)\n",
    "client.loop_start()\n",
    "client.on_connect = on_connect\n",
    "client.on_message = on_message\n",
    "\n",
    "print(\"hello man\")"
   ]
  },
  {
   "cell_type": "code",
   "execution_count": null,
   "metadata": {},
   "outputs": [
    {
     "name": "stdout",
     "output_type": "stream",
     "text": [
      "data published \n",
      "\n",
      "what is\n",
      "data published \n",
      "\n",
      "what is artificial intelligence\n",
      "data published \n",
      "\n",
      "good relation\n",
      "data published \n",
      "\n",
      "what precaution\n",
      "data published \n",
      "\n",
      "time difference\n",
      "data published \n",
      "\n",
      "how are you\n",
      "data published \n",
      "\n",
      "how are you\n",
      "Mai Ke Saath tum aisa konsa\n",
      "data published \n",
      "\n",
      "seconds\n",
      "data published \n",
      "\n",
      "1969\n",
      "data published \n",
      "\n",
      "free\n",
      "data published \n",
      "\n",
      "Mr Bean\n",
      "data published \n",
      "\n",
      "disturb\n",
      "data published \n",
      "\n",
      "Amit\n",
      "data published \n",
      "\n",
      "application form\n",
      "data published \n",
      "\n",
      "theme song\n",
      "data published \n",
      "\n",
      "vitamin\n",
      "data published \n",
      "\n",
      "Jagdeep\n",
      "data published \n",
      "\n",
      "Baahubali part 2\n",
      "data published \n",
      "\n"
     ]
    }
   ],
   "source": [
    "import paho.mqtt.client as paho\n",
    "\n",
    "# This is the Publisher - Publishing the response to Pi\n",
    "broker=\"test.mosquitto.org\"\n",
    "port=1883\n",
    "\n",
    "text_mqtt2=0\n",
    "while True:\n",
    "  if text_mqtt != text_mqtt2:\n",
    "    bot_text2=bot2.get_response(text_mqtt)\n",
    "    a=str(bot_text2)\n",
    "    text_mqtt2=text_mqtt\n",
    "    \n",
    "    def on_publish(client,userdata,result):             #create function for callback\n",
    "      print(\"data published \\n\")\n",
    "      pass\n",
    "    \n",
    "    client1= paho.Client(\"control1\")                           #create client object\n",
    "    client1.on_publish = on_publish                          #assign function to callback\n",
    "    client1.connect(broker,port)\n",
    "                  #establish connection\n",
    "    ret= client1.publish(\"house/bulb1\",a)                   #publish"
   ]
  },
  {
   "cell_type": "code",
   "execution_count": null,
   "metadata": {},
   "outputs": [],
   "source": []
  }
 ],
 "metadata": {
  "kernelspec": {
   "display_name": "Python 3",
   "language": "python",
   "name": "python3"
  },
  "language_info": {
   "codemirror_mode": {
    "name": "ipython",
    "version": 3
   },
   "file_extension": ".py",
   "mimetype": "text/x-python",
   "name": "python",
   "nbconvert_exporter": "python",
   "pygments_lexer": "ipython3",
   "version": "3.6.8"
  }
 },
 "nbformat": 4,
 "nbformat_minor": 2
}
